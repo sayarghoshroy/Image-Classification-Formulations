{
  "nbformat": 4,
  "nbformat_minor": 0,
  "metadata": {
    "kernelspec": {
      "display_name": "Python 3",
      "language": "python",
      "name": "python3"
    },
    "language_info": {
      "codemirror_mode": {
        "name": "ipython",
        "version": 3
      },
      "file_extension": ".py",
      "mimetype": "text/x-python",
      "name": "python",
      "nbconvert_exporter": "python",
      "pygments_lexer": "ipython3",
      "version": "3.7.3"
    },
    "colab": {
      "name": "Techniques_on_MNIST.ipynb",
      "provenance": [],
      "collapsed_sections": [],
      "include_colab_link": true
    },
    "accelerator": "TPU"
  },
  "cells": [
    {
      "cell_type": "markdown",
      "metadata": {
        "id": "view-in-github",
        "colab_type": "text"
      },
      "source": [
        "<a href=\"https://colab.research.google.com/github/sayarghoshroy/Image-Classification-Formulations/blob/master/Techniques_on_MNIST.ipynb\" target=\"_parent\"><img src=\"https://colab.research.google.com/assets/colab-badge.svg\" alt=\"Open In Colab\"/></a>"
      ]
    },
    {
      "cell_type": "code",
      "metadata": {
        "editable": false,
        "scrolled": true,
        "id": "vSqgUmXXHgN5",
        "colab_type": "code",
        "colab": {}
      },
      "source": [
        "from __future__ import print_function\n",
        "\n",
        "import numpy as np\n",
        "import matplotlib.pyplot as plt\n",
        "\n",
        "def read_data(filename):\n",
        "    with open(filename, 'r') as f:\n",
        "        lines = f.readlines()\n",
        "    \n",
        "    num_points = len(lines)\n",
        "    dim_points = 28 * 28\n",
        "    data = np.empty((num_points, dim_points))\n",
        "    labels = np.empty(num_points)\n",
        "    \n",
        "    for ind, line in enumerate(lines):\n",
        "        num = line.split(',')\n",
        "        labels[ind] = int(num[0])\n",
        "        data[ind] = [ int(x) for x in num[1:] ]\n",
        "        \n",
        "    return (data, labels)\n",
        "\n",
        "train_data, train_labels = read_data(\"sample_train.csv\")\n",
        "test_data, test_labels = read_data(\"sample_test.csv\")\n",
        "\n",
        "# To view shapes:\n",
        "# print(train_data.shape, test_data.shape)\n",
        "# print(train_labels.shape, test_labels.shape)"
      ],
      "execution_count": 1,
      "outputs": []
    },
    {
      "cell_type": "code",
      "metadata": {
        "id": "vmmIklrMIjWh",
        "colab_type": "code",
        "colab": {}
      },
      "source": [
        "import warnings\n",
        "warnings.filterwarnings('ignore')"
      ],
      "execution_count": 2,
      "outputs": []
    },
    {
      "cell_type": "markdown",
      "metadata": {
        "editable": false,
        "id": "I-h4SM91HgOI",
        "colab_type": "text"
      },
      "source": [
        "## Visualization\n",
        "\n",
        "Visualizing the eigen value spectrum of the covariance matrices for various sample units. The eigen value spectrum is normalized and we visualize only the first 100 components."
      ]
    },
    {
      "cell_type": "code",
      "metadata": {
        "id": "nTuorK0zHgOJ",
        "colab_type": "code",
        "colab": {
          "base_uri": "https://localhost:8080/",
          "height": 299
        },
        "outputId": "6f7500df-897d-41bc-850a-cde98d3d97ac"
      },
      "source": [
        "# Samples corresponding to the number 7\n",
        "\n",
        "roll_data = np.zeros(shape = (6000, 784))\n",
        "count = 0\n",
        "\n",
        "for iter in range(6000):\n",
        "    \n",
        "    if train_labels[iter] == 7:\n",
        "        roll_data[count,:] = train_data[iter,:]\n",
        "        count += 1\n",
        "        \n",
        "eigenvalues, _ = np.linalg.eig(np.cov(roll_data[:count, :].T))\n",
        "eigenvalues = np.sort(eigenvalues)\n",
        "eigenvalues = np.flip(eigenvalues) / np.linalg.norm(eigenvalues)\n",
        "\n",
        "print(\"Rank of Covariance Matrix =\", str(np.linalg.matrix_rank(roll_data[:count, :])))\n",
        "\n",
        "plt.plot(np.real(eigenvalues[0:100]))\n",
        "plt.title(\"Plot A\")\n",
        "plt.show()"
      ],
      "execution_count": 3,
      "outputs": [
        {
          "output_type": "stream",
          "text": [
            "Rank of Covariance Matrix = 480\n"
          ],
          "name": "stdout"
        },
        {
          "output_type": "display_data",
          "data": {
            "image/png": "[encoded data removed]",
            "text/plain": [
              "<Figure size 432x288 with 1 Axes>"
            ]
          },
          "metadata": {
            "tags": [],
            "needs_background": "light"
          }
        }
      ]
    },
    {
      "cell_type": "code",
      "metadata": {
        "id": "c6rnTB3CHgOS",
        "colab_type": "code",
        "colab": {
          "base_uri": "https://localhost:8080/",
          "height": 299
        },
        "outputId": "89389407-9e12-488c-c5ee-08460db2d6ea"
      },
      "source": [
        "# Samples corresponding to the number 8\n",
        "\n",
        "roll_data = np.zeros(shape = (6000, 784))\n",
        "count = 0\n",
        "\n",
        "for iter in range(6000):\n",
        "    \n",
        "    if train_labels[iter] == 8:\n",
        "        roll_data[count,:] = train_data[iter,:]\n",
        "        count += 1\n",
        "        \n",
        "eigenvalues, _ = np.linalg.eig(np.cov(roll_data[:count, :].T))\n",
        "eigenvalues = np.sort(eigenvalues)\n",
        "eigenvalues = np.flip(eigenvalues) / np.linalg.norm(eigenvalues)\n",
        "\n",
        "print(\"Rank of Covariance Matrix =\", str(np.linalg.matrix_rank(roll_data[:count, :])))\n",
        "\n",
        "plt.title(\"Plot B\")\n",
        "plt.plot(eigenvalues[0:100])\n",
        "plt.show()"
      ],
      "execution_count": 4,
      "outputs": [
        {
          "output_type": "stream",
          "text": [
            "Rank of Covariance Matrix = 480\n"
          ],
          "name": "stdout"
        },
        {
          "output_type": "display_data",
          "data": {
            "image/png": "[encoded data removed]",
            "text/plain": [
              "<Figure size 432x288 with 1 Axes>"
            ]
          },
          "metadata": {
            "tags": [],
            "needs_background": "light"
          }
        }
      ]
    },
    {
      "cell_type": "code",
      "metadata": {
        "id": "hk_f-MMDHgOb",
        "colab_type": "code",
        "colab": {
          "base_uri": "https://localhost:8080/",
          "height": 299
        },
        "outputId": "5fd488a6-73cd-4c3b-96e5-d3cd2ff1ad4b"
      },
      "source": [
        "# Entire training data\n",
        "\n",
        "roll_data = np.zeros(shape = (6000, 784))\n",
        "count = 0\n",
        "\n",
        "for iter in range(6000):\n",
        "    roll_data[count,:] = train_data[iter,:]\n",
        "    count += 1\n",
        "        \n",
        "eigenvalues, _ = np.linalg.eig(np.cov(roll_data[:count, :].T))\n",
        "eigenvalues = np.sort(eigenvalues)\n",
        "eigenvalues = np.flip(eigenvalues) / np.linalg.norm(eigenvalues)\n",
        "\n",
        "print(\"Rank of Covariance Matrix =\", str(np.linalg.matrix_rank(roll_data[:count, :])))\n",
        "\n",
        "plt.title(\"Plot C\")\n",
        "plt.plot(eigenvalues[0:100])\n",
        "plt.show()"
      ],
      "execution_count": 5,
      "outputs": [
        {
          "output_type": "stream",
          "text": [
            "Rank of Covariance Matrix = 658\n"
          ],
          "name": "stdout"
        },
        {
          "output_type": "display_data",
          "data": {
            "image/png": "[encoded data removed]",
            "text/plain": [
              "<Figure size 432x288 with 1 Axes>"
            ]
          },
          "metadata": {
            "tags": [],
            "needs_background": "light"
          }
        }
      ]
    },
    {
      "cell_type": "code",
      "metadata": {
        "id": "gFKj6XPeHgOi",
        "colab_type": "code",
        "colab": {
          "base_uri": "https://localhost:8080/",
          "height": 299
        },
        "outputId": "b76e8736-c80e-4096-fefd-2056f15bcd54"
      },
      "source": [
        "# Randomly selected 50% of the training data\n",
        "\n",
        "roll_data = np.zeros(shape = (6000, 784))\n",
        "count = 0\n",
        "\n",
        "random_train_data = np.random.permutation(train_data)\n",
        "\n",
        "for iter in range(int(6000 / 2)):\n",
        "    roll_data[count,:] = random_train_data[iter,:]\n",
        "    count += 1\n",
        "        \n",
        "eigenvalues, _ = np.linalg.eig(np.cov(roll_data[:count, :].T))\n",
        "eigenvalues = np.sort(eigenvalues)\n",
        "eigenvalues = np.flip(eigenvalues) / np.linalg.norm(eigenvalues)\n",
        "\n",
        "print(\"Rank of Covariance Matrix =\", str(np.linalg.matrix_rank(roll_data[:count, :])))\n",
        "\n",
        "plt.title(\"Plot D\")\n",
        "plt.plot(eigenvalues[0:100])\n",
        "plt.show()"
      ],
      "execution_count": 6,
      "outputs": [
        {
          "output_type": "stream",
          "text": [
            "Rank of Covariance Matrix = 634\n"
          ],
          "name": "stdout"
        },
        {
          "output_type": "display_data",
          "data": {
            "image/png": "[encoded data removed]",
            "text/plain": [
              "<Figure size 432x288 with 1 Axes>"
            ]
          },
          "metadata": {
            "tags": [],
            "needs_background": "light"
          }
        }
      ]
    },
    {
      "cell_type": "markdown",
      "metadata": {
        "id": "JYo-oRghHgOr",
        "colab_type": "text"
      },
      "source": [
        "## Analysis\n",
        "\n",
        "Plots A and B are very similar. This is because both the plots A and B represent labels of one particular type. Hence, the number of dimensions in which a significant variation of parameters will be seen is small and pretty identical. We can see that they even have the same rank for their covariance matrices (= 480) indicating that their number of positive eigenvalues is the same.\n",
        "\n",
        "Plots B and C show a significant difference. This is because plot C contains the entire training data. Hence the number of dimensions in which a significant variation of parameters can be found is much higher compared to the case where all datapoints belong to the same class. This leads to a higher rank (= 658) which is the number of positive eigenvalues.\n",
        "\n",
        "We compute the ranks of the plots at 480, 480, 638, and 658 respectively.\n",
        "\n",
        "By Looking at the graphs, it is fair to estimate a rank of\n",
        "1. 62 for Plot a\n",
        "2. 62 for Plot b\n",
        "3. 100+ for Plot c\n",
        "4. 100+ for Plot d\n",
        "\n",
        "> based on visually perceiving when the curve approaches 0.\n"
      ]
    },
    {
      "cell_type": "markdown",
      "metadata": {
        "id": "SqO81v9UHgOv",
        "colab_type": "text"
      },
      "source": [
        "## Number of Distinct Theoretically Possible Images\n",
        "\n",
        "There are a total of $2^{784}$ possible images according to the MNIST parameters. \\[We have 784 cells, each which has 2 choices, either 0 or 1\\]\n",
        "\n",
        "## Percentage of Theoretically Possible Images for which we have accessible labels\n",
        "\n",
        "Percentage of population accessible to us as MNIST data = $\\big( \\frac{7000}{2^{784}} \\times 100 \\big)$ %\n",
        "\n",
        "> As test_data is also \"accessible\".\n",
        "\n",
        "## Structure of Eigenvalue Spectrum of the entire Population Space \n",
        "\n",
        "Lets say, all the possible $2^{784}$ datapoints appear exactly once. Then, we have a 784-dimensional cube. The $784 \\times 784$ covariance matrix will be diagonal, all diagonal components being the same.\n",
        "\n",
        "This is because the covariances for any 2 pair of different dimensions will be 0. \\[Data is arranged in a perfectly regular fashion, hence covariance along any pair of dimensions is 0 as the orientation of the data in those 2 dimensions is neither positively aligned, nor negatively but is perfectly neutral.\\]\n",
        "\n",
        "All the diagonal elements are the same because the variances for every dimension is the same i.e = $\\frac{1}{4}$. Since, the mean for a dimension is $\\frac{1}{2}$ and the points are 0 and 1.\n",
        "\n",
        "Hence all the eigenvalues are the same and the eigenvalue spectrum graph will be a series of 784 line segments of uniform height.\n",
        "\n",
        "---"
      ]
    },
    {
      "cell_type": "markdown",
      "metadata": {
        "id": "cl3FbjwUHgOy",
        "colab_type": "text"
      },
      "source": [
        "# Linear Transformation\n",
        "\n",
        "### Effect on eigen spectrum due to the multiplication of dataset by an orthonormal matrix\n",
        "\n",
        "Eigenvalue Spectrum should remain constant if the matrix is orthonormal.\n",
        "Transformation with an orthogonal matrix will cause rotation or shearing and scaling. All distances will be preserved post-transformation. Only a rotation about a point can be brought about by the change.\n",
        "\n",
        "Thus, this only brings about a change in the orientation of data. The eigenvectors will rotate accordingly but since there is NO scaling or shearing or translation involved, the eigenvalues remain invariant.\n",
        "\n",
        "\\[Assuming the matrix is a square matrix and there is no dimensionality reduction involved.\\]\n",
        "\n",
        "---"
      ]
    },
    {
      "cell_type": "markdown",
      "metadata": {
        "id": "EJL3pxdKHgO7",
        "colab_type": "text"
      },
      "source": [
        "## Effect on eigen spectrum due to multiplication of dataset by a rank deficient matrix (say of rank 2)\n",
        "\n",
        "The eigenvalue spectrum will have 2 positive eigenvalues at the maximum, the other eigen-values all being 0.\n",
        "\n",
        "We know $rank(A.B) \\le rank(A)$\n",
        "\n",
        "and $rank(A.B) \\le rank(B)$\n",
        "\n",
        "which implies that $rank(A.B) \\le min(rank(A), rank(B))$\n",
        "\n",
        "Hence, on multiplying with a matrix of rank $\\le 2$, the rank of the resultant is less than or equal to 2.\n",
        "Therefore, the number of non-zero eigen values is also less than or equal to 2."
      ]
    },
    {
      "cell_type": "markdown",
      "metadata": {
        "editable": false,
        "id": "Xf9RP9-NHgO8",
        "colab_type": "text"
      },
      "source": [
        "## Projection of Data into 2 dimensions"
      ]
    },
    {
      "cell_type": "code",
      "metadata": {
        "id": "oaOJ39cbHgO-",
        "colab_type": "code",
        "colab": {
          "base_uri": "https://localhost:8080/",
          "height": 265
        },
        "outputId": "30850613-84ca-4b02-8593-67b105a35a2a"
      },
      "source": [
        "eigenvalues, eigenvectors = np.linalg.eig(np.cov(train_data.T))\n",
        "\n",
        "x = np.zeros(6000)\n",
        "y = np.zeros(6000)\n",
        "\n",
        "positions = np.flip(np.argsort(eigenvalues))\n",
        "\n",
        "for iter in range(6000):\n",
        "    x[iter] = np.real(np.dot(train_data[iter,:], eigenvectors[:, positions[0]]))\n",
        "    y[iter] = np.real(np.dot(train_data[iter,:], eigenvectors[:, positions[1]]))\n",
        "    \n",
        "plt.scatter(x, y)\n",
        "plt.show()"
      ],
      "execution_count": 7,
      "outputs": [
        {
          "output_type": "display_data",
          "data": {
            "image/png": "[encoded data removed]",
            "text/plain": [
              "<Figure size 432x288 with 1 Axes>"
            ]
          },
          "metadata": {
            "tags": [],
            "needs_background": "light"
          }
        }
      ]
    },
    {
      "cell_type": "markdown",
      "metadata": {
        "editable": false,
        "id": "c1XNFNB6HgPE",
        "colab_type": "text"
      },
      "source": [
        "## Probabilistic View\n",
        "\n",
        "Classifying the test set by fitting multivariate gaussians on the train set with different choices for decision boundaries."
      ]
    },
    {
      "cell_type": "code",
      "metadata": {
        "id": "OwR4YLT8HgPG",
        "colab_type": "code",
        "colab": {
          "base_uri": "https://localhost:8080/",
          "height": 35
        },
        "outputId": "ce7f7154-a96e-48e2-f6bf-1bc6f5350d8f"
      },
      "source": [
        "# Computing accuracy on the test set using MLE\n",
        "\n",
        "means = []\n",
        "covs = []\n",
        "pseudocovs = []\n",
        "logdet_values = []\n",
        "\n",
        "for label in range(10):\n",
        "    label_data = np.zeros(shape = (6000, 784))\n",
        "    count = 0\n",
        "    for iter in range(6000):\n",
        "        if int(train_labels[iter]) == label:\n",
        "            label_data[count,:] = train_data[iter,:]\n",
        "            count += 1\n",
        "\n",
        "    means.append(np.mean(label_data[:count, :], axis = 0))\n",
        "\n",
        "    temp = (np.cov(label_data[:count, :], rowvar = False))\n",
        "    covs.append(temp)\n",
        "    pseudocovs.append(np.linalg.pinv(temp))\n",
        "\n",
        "    eig_values, _ = np.linalg.eig(temp)\n",
        "    pseudo_determinant = 0\n",
        "    for element in eig_values:\n",
        "        if(np.real(element) > 1e-5):\n",
        "            pseudo_determinant += np.log(np.real(element))\n",
        "            \n",
        "    logdet_values.append(pseudo_determinant)\n",
        "\n",
        "def prob(x, classID):\n",
        "    global means\n",
        "    global pseudocovs\n",
        "    global logdet_values\n",
        "    \n",
        "    A = x - means[classID]\n",
        "    \n",
        "    B = np.matmul(np.matmul(A.T, pseudocovs[classID]), A)\n",
        "    \n",
        "    ret = (- (logdet_values[classID] + B))\n",
        "    return ret\n",
        "\n",
        "#calculating the accuracy for the test set\n",
        "cnt = 0\n",
        "for iter in range(1000):\n",
        "    probabilities = np.zeros(10)\n",
        "    for label in range(10):\n",
        "        temp = prob(test_data[iter,:], label)\n",
        "        probabilities[label] = temp\n",
        "    \n",
        "    best_label = np.argmax(probabilities)\n",
        "    if(int(best_label) == int(test_labels[iter])):\n",
        "        cnt += 1\n",
        "\n",
        "print(\"Accuracy on test set using MLE :\", str(cnt / 10), \" %\")"
      ],
      "execution_count": 8,
      "outputs": [
        {
          "output_type": "stream",
          "text": [
            "Accuracy on test set using MLE : 74.4  %\n"
          ],
          "name": "stdout"
        }
      ]
    },
    {
      "cell_type": "code",
      "metadata": {
        "id": "rwZhYaDvHgPM",
        "colab_type": "code",
        "colab": {
          "base_uri": "https://localhost:8080/",
          "height": 35
        },
        "outputId": "75cccacf-a9be-4560-b16a-1468dd3b6249"
      },
      "source": [
        "# Computing accuracy on the test set using MAP\n",
        "\n",
        "# Assume prior probability of a class C = (Number of datapoints in the class in train_set) / (Total number of datapoints in train_set)\n",
        "# Therefore, Prior Probability = 600 / 6000 = 1 / 10 = 0.1 for each class\n",
        "# According to the train_set given to us, there are 600 datapoints for every class\n",
        "# We use the Bayesian equation to compute the probabilities\n",
        "\n",
        "def prob_MAP(x, classID):\n",
        "    global means\n",
        "    global pseudocovs\n",
        "    global logdet_values\n",
        "    \n",
        "    A = x - means[classID]\n",
        "    \n",
        "    B = np.matmul(np.matmul(A.T, pseudocovs[classID]), A)\n",
        "    \n",
        "    # Adding the log of the prior probability, which is a constant\n",
        "    ret = ((- 0.5 * (logdet_values[classID] + B) ) - (784 / 2) * np.log(2 * np.pi)) + np.log(0.1)\n",
        "    return ret\n",
        "\n",
        "#calculating the accuracy for the test set using prob_MAP\n",
        "\n",
        "cnt = 0\n",
        "for iter in range(1000):\n",
        "    probabilities = np.zeros(10)\n",
        "    for label in range(10):\n",
        "        temp = prob_MAP(test_data[iter,:], label)\n",
        "        probabilities[label] = temp\n",
        "    \n",
        "    best_label = np.argmax(probabilities)\n",
        "    if(int(best_label) == int(test_labels[iter])):\n",
        "        cnt += 1\n",
        "\n",
        "print(\"Accuracy on test set using MAP :\", str(cnt / 10), \" %\")"
      ],
      "execution_count": 9,
      "outputs": [
        {
          "output_type": "stream",
          "text": [
            "Accuracy on test set using MAP : 74.4  %\n"
          ],
          "name": "stdout"
        }
      ]
    },
    {
      "cell_type": "code",
      "metadata": {
        "id": "OlLP3iH6HgPT",
        "colab_type": "code",
        "colab": {
          "base_uri": "https://localhost:8080/",
          "height": 35
        },
        "outputId": "e2ca6fdb-799e-4d13-cc6a-82064114cdd7"
      },
      "source": [
        "# Computing accuracy using Bayesian pairwise majority voting method\n",
        "pairs = [] \n",
        "\n",
        "for i in range(10):\n",
        "    for j in range(i):\n",
        "        pairs.append((j, i))\n",
        "        \n",
        "dict_covs = {}\n",
        "dict_pseudocovs = {}\n",
        "dict_logdets = {}\n",
        "\n",
        "for pair in pairs:\n",
        "    cov_mat = (covs[pair[0]] + covs[pair[1]]) * (0.5)\n",
        "    dict_covs[pair] = cov_mat\n",
        "    \n",
        "    dict_pseudocovs[pair] = np.linalg.pinv(cov_mat)\n",
        "\n",
        "    eig_values, _ = np.linalg.eig(cov_mat)\n",
        "    pseudo_determinant = 0\n",
        "    \n",
        "    for element in eig_values:\n",
        "        if(np.real(element) > 1e-5):\n",
        "            pseudo_determinant += np.log(np.real(element))\n",
        "            \n",
        "    dict_logdets[pair] = pseudo_determinant\n",
        "    \n",
        "def prob_pair(x, class_pair):\n",
        "    ret_pair = [0, 0]\n",
        "    \n",
        "    for idx in range(2):\n",
        "        A = x - means[class_pair[idx]]\n",
        "        B = np.matmul(np.matmul(A.T, dict_pseudocovs[class_pair]), A)\n",
        "\n",
        "        ret_pair[idx] = (- (dict_logdets[class_pair] + B))\n",
        "        \n",
        "    return ret_pair\n",
        "\n",
        "cnt = 0\n",
        "for iter in range(1000):\n",
        "    freq = np.zeros(10)\n",
        "    \n",
        "    for pair in pairs:\n",
        "        probs_found = prob_pair(test_data[iter,:], pair)\n",
        "        if(probs_found[0] > probs_found[1]):\n",
        "            freq[pair[0]] += 1\n",
        "            continue\n",
        "        freq[pair[1]] += 1\n",
        "    \n",
        "    chosen_label = np.argmax(freq)\n",
        "    if(chosen_label == int(test_labels[iter])):\n",
        "        cnt += 1\n",
        "\n",
        "print(\"Accuracy on test set using Bayesian Pairwise Majority Voting :\", str(cnt / 10), \" %\")"
      ],
      "execution_count": 10,
      "outputs": [
        {
          "output_type": "stream",
          "text": [
            "Accuracy on test set using Bayesian Pairwise Majority Voting : 83.7  %\n"
          ],
          "name": "stdout"
        }
      ]
    },
    {
      "cell_type": "code",
      "metadata": {
        "id": "Sy3Eip-zHgPd",
        "colab_type": "code",
        "colab": {
          "base_uri": "https://localhost:8080/",
          "height": 35
        },
        "outputId": "d4bc3a45-bca0-422f-f142-ed60c0541016"
      },
      "source": [
        "# Computing accuracy using Simple Perpendicular Bisector majority voting method\n",
        "\n",
        "cnt = 0\n",
        "\n",
        "for iter in range(1000):\n",
        "    distances = np.zeros(10)\n",
        "    freq = np.zeros(10)\n",
        "    \n",
        "    for label in range(10):\n",
        "        distances[label] = np.linalg.norm(test_data[iter] - means[label])\n",
        "        \n",
        "    for pair in pairs:\n",
        "        if(distances[pair[0]] < distances[pair[1]]):\n",
        "            freq[pair[0]] += 1\n",
        "            continue\n",
        "        freq[pair[1]] += 1\n",
        "    \n",
        "    chosen_label = np.argmax(freq)\n",
        "    if(chosen_label == int(test_labels[iter])):\n",
        "        cnt += 1\n",
        "\n",
        "print(\"Accuracy on test set using Simple Perpendicular Bisector Majority Voting method :\", str(cnt / 10), \" %\")"
      ],
      "execution_count": 11,
      "outputs": [
        {
          "output_type": "stream",
          "text": [
            "Accuracy on test set using Simple Perpendicular Bisector Majority Voting method : 77.0  %\n"
          ],
          "name": "stdout"
        }
      ]
    },
    {
      "cell_type": "markdown",
      "metadata": {
        "id": "v22paTq-HgPl",
        "colab_type": "text"
      },
      "source": [
        "## Observations\n",
        "\n",
        "The performance order is as follows:\n",
        "\n",
        "1. Bayesian Pairwise Majority Voting : 83.8  %\n",
        "\n",
        "2. Simple Perpendicular Bisector Majority Voting method : 77.0  %\n",
        "\n",
        "3. MAP : 74.4  % = MLE : 74.4  %\n",
        "\n",
        "Points to Consider:\n",
        "\n",
        "- Pariwise Voting Methods seem to work better than the others. This is typically the standard way of doing multiclass classification problems using other popular methods involving linear classifiers.\n",
        "\n",
        "- Majority voting using Gaussians having same covariance matrices gives the best result. The data seems to be clustered into classes which can be nicely fit into Gaussian models and separated linearly.\n",
        "\n",
        "- Experiments with a single covariance matrix factoring all the train_data for MAP and MLE gives better results. Therefore, linear classifiers seem to be working better than quadratic ones and this might depict a classic case of overfitting."
      ]
    },
    {
      "cell_type": "markdown",
      "metadata": {
        "editable": false,
        "id": "YnL3ncrKHgPn",
        "colab_type": "text"
      },
      "source": [
        "## Nearest Neighbour based Analysis\n",
        "\n",
        "Implementing a KNN classifier to compute accuracies on the test set with K = 1, 3, 5, 7"
      ]
    },
    {
      "cell_type": "code",
      "metadata": {
        "id": "DujC4awWHgPo",
        "colab_type": "code",
        "colab": {
          "base_uri": "https://localhost:8080/",
          "height": 88
        },
        "outputId": "7bcd696d-2548-46cc-f639-5b6f5ae198d2"
      },
      "source": [
        "# Calculating accuracies with K = 1, 3, 5, 7\n",
        "\n",
        "distance = np.zeros(shape = (1000, 6000))\n",
        "positions = np.zeros(shape = (1000, 6000))\n",
        "\n",
        "for iter in range(1000):\n",
        "    \n",
        "    for train_iter in range(6000):\n",
        "        distance[iter][train_iter] = np.linalg.norm(train_data[train_iter, :] - test_data[iter, :])\n",
        "        \n",
        "    positions[iter, :] = np.argsort(distance[iter, :])\n",
        "    \n",
        "# K = 1\n",
        "count = 0\n",
        "\n",
        "for iter in range(1000):\n",
        "    if train_labels[int(positions[iter][0])] == test_labels[iter]:\n",
        "        count += 1\n",
        "        \n",
        "print(\"Accuracy with K = 1 is\", str(count / 10))\n",
        "\n",
        "def calculate(K):\n",
        "    count = 0\n",
        "\n",
        "    for iter in range(1000):\n",
        "        freq = np.zeros(10)\n",
        "\n",
        "        for index in range(K):\n",
        "            freq[int(train_labels[int(positions[iter][index])])] += 1\n",
        "\n",
        "        maximize = np.flip(np.argsort(freq))\n",
        "\n",
        "        if maximize[0] == test_labels[iter]:\n",
        "            count += 1\n",
        "\n",
        "    return(count / 10)\n",
        "\n",
        "# K = 3\n",
        "print(\"Accuracy with K = 3 is\", str(calculate(3)))\n",
        "\n",
        "# K = 5\n",
        "print(\"Accuracy with K = 5 is\", str(calculate(5)))\n",
        "\n",
        "# K = 7\n",
        "print(\"Accuracy with K = 7 is\", str(calculate(7)))   "
      ],
      "execution_count": 12,
      "outputs": [
        {
          "output_type": "stream",
          "text": [
            "Accuracy with K = 1 is 90.7\n",
            "Accuracy with K = 3 is 92.3\n",
            "Accuracy with K = 5 is 92.4\n",
            "Accuracy with K = 7 is 91.8\n"
          ],
          "name": "stdout"
        }
      ]
    },
    {
      "cell_type": "markdown",
      "metadata": {
        "id": "L4hiJdIFHgPx",
        "colab_type": "text"
      },
      "source": [
        "## Analysis\n",
        "\n",
        "Accuracies vary. This is mostly because of noisy data.\n",
        "\n",
        "Lets say, a point P in test set has the closest point H in the train set which is wrongly classified.\n",
        "\n",
        "The 2nd and 3rd closest points to P in the train set were the labels with the correct values.\n",
        "\n",
        "Having K = 3 correctly classifies P in this case.\n",
        "\n",
        "It all depends on the arrangement of the data in space.\n",
        "For K = 7, the 4th, 5th, 6th, 7th nearest neighbours may not belong to the same class as P and may end up causing a misclassification.\n",
        "\n",
        "To identify best K, we try consecutive odd values of K starting from 1 and STOP when the accuracy begins to go down.\n",
        "This is kind of similar to early stopping where one prevents overfitting while performing gradient descent while checking the accuracy on a validation set."
      ]
    },
    {
      "cell_type": "code",
      "metadata": {
        "id": "AVDiVMXLHgPy",
        "colab_type": "code",
        "colab": {
          "base_uri": "https://localhost:8080/",
          "height": 35
        },
        "outputId": "ec212cdb-db61-4b8c-fa70-6bed1c38542f"
      },
      "source": [
        "# Finding the best value of K\n",
        "prev = 0\n",
        "for iter in range(1000):\n",
        "    if (iter % 2 == 0):\n",
        "        continue\n",
        "    temp = calculate(iter)\n",
        "    if(temp < prev):\n",
        "        print( str(iter - 2), \"is the best value of K\")\n",
        "        break\n",
        "    prev = temp"
      ],
      "execution_count": 13,
      "outputs": [
        {
          "output_type": "stream",
          "text": [
            "5 is the best value of K\n"
          ],
          "name": "stdout"
        }
      ]
    },
    {
      "cell_type": "markdown",
      "metadata": {
        "editable": false,
        "id": "C_3-XsIzHgP6",
        "colab_type": "text"
      },
      "source": [
        "### Reverse Nearest Neighbour based outlier detection\n",
        "IDEA: A sample can be thought of as an outlier if it is NOT in the nearest neighbour set of any other sample.\n",
        "\n",
        "Expanding this into an algorithm."
      ]
    },
    {
      "cell_type": "code",
      "metadata": {
        "editable": false,
        "id": "9aEm0A3eHgP7",
        "colab_type": "code",
        "colab": {}
      },
      "source": [
        "# Reads mixed data containing both MNIST digits and English characters.\n",
        "# The labels for this mixed data are random and not meant for consideration\n",
        "\n",
        "mixed_data, _ = read_data(\"outliers.csv\")\n",
        "\n",
        "# To View Structure of the data:\n",
        "# print(mixed_data.shape)"
      ],
      "execution_count": 14,
      "outputs": []
    },
    {
      "cell_type": "code",
      "metadata": {
        "id": "wm3E0FDUHgQA",
        "colab_type": "code",
        "colab": {
          "base_uri": "https://localhost:8080/",
          "height": 851
        },
        "outputId": "3a17e8fe-0cdf-4842-bb44-8045e1ea89a8"
      },
      "source": [
        "# Finding the outliers in the mixed_data\n",
        "\n",
        "distance_outliers = np.zeros(shape = (6000, 6020))\n",
        "positions_outliers = np.zeros(shape = (6000, 6020))\n",
        "\n",
        "is_not_outlier = np.zeros(20) \n",
        "\n",
        "for iter in range(6000):\n",
        "    \n",
        "    for train_iter in range(6020):\n",
        "        if(train_iter == iter):\n",
        "            distance_outliers[iter][train_iter] = float('inf')\n",
        "            continue\n",
        "        if(train_iter >= 6000):\n",
        "            temp = train_iter - 6000\n",
        "            distance_outliers[iter][train_iter] = np.linalg.norm(train_data[iter, :] - mixed_data[temp, :])\n",
        "            continue\n",
        "        distance_outliers[iter][train_iter] = np.linalg.norm(train_data[train_iter, :] - train_data[iter, :])\n",
        "        \n",
        "    positions_outliers[iter, :] = np.argsort(distance_outliers[iter, :])\n",
        "    \n",
        "    #Rules out elements in mixed_data from the outliers class\n",
        "    for checker in range(3):\n",
        "        if (positions_outliers[iter][checker] >= 6000):\n",
        "            is_not_outlier[int(int(positions_outliers[iter][checker]) - 6000)] = 1\n",
        "            print(\"Ruling out \" + str(int(positions_outliers[iter][checker]) - 6000) + \" based on \" + str(iter))\n",
        "\n",
        "print(\"Outliers: \")\n",
        "for find in range(20):\n",
        "    if(int(is_not_outlier[find]) == 0):\n",
        "        # To view the ruling out decisions\n",
        "        print(find)"
      ],
      "execution_count": 15,
      "outputs": [
        {
          "output_type": "stream",
          "text": [
            "Ruling out 16 based on 54\n",
            "Ruling out 14 based on 380\n",
            "Ruling out 8 based on 435\n",
            "Ruling out 13 based on 451\n",
            "Ruling out 1 based on 778\n",
            "Ruling out 14 based on 914\n",
            "Ruling out 15 based on 1044\n",
            "Ruling out 3 based on 1075\n",
            "Ruling out 1 based on 1075\n",
            "Ruling out 3 based on 1127\n",
            "Ruling out 1 based on 1160\n",
            "Ruling out 15 based on 1496\n",
            "Ruling out 15 based on 1680\n",
            "Ruling out 12 based on 1697\n",
            "Ruling out 15 based on 1703\n",
            "Ruling out 14 based on 1732\n",
            "Ruling out 8 based on 2051\n",
            "Ruling out 15 based on 2301\n",
            "Ruling out 13 based on 2327\n",
            "Ruling out 15 based on 2870\n",
            "Ruling out 15 based on 2980\n",
            "Ruling out 17 based on 3056\n",
            "Ruling out 15 based on 3468\n",
            "Ruling out 8 based on 3943\n",
            "Ruling out 19 based on 3970\n",
            "Ruling out 14 based on 3998\n",
            "Ruling out 10 based on 4130\n",
            "Ruling out 1 based on 4153\n",
            "Ruling out 13 based on 4356\n",
            "Ruling out 8 based on 4505\n",
            "Ruling out 15 based on 4554\n",
            "Ruling out 12 based on 4634\n",
            "Ruling out 15 based on 4708\n",
            "Ruling out 14 based on 4838\n",
            "Ruling out 15 based on 4979\n",
            "Ruling out 19 based on 5044\n",
            "Ruling out 5 based on 5625\n",
            "Ruling out 1 based on 5731\n",
            "Outliers: \n",
            "0\n",
            "2\n",
            "4\n",
            "6\n",
            "7\n",
            "9\n",
            "11\n",
            "18\n"
          ],
          "name": "stdout"
        }
      ]
    },
    {
      "cell_type": "code",
      "metadata": {
        "id": "BwMapXf6HgQG",
        "colab_type": "code",
        "colab": {
          "base_uri": "https://localhost:8080/",
          "height": 283
        },
        "outputId": "071706f7-c2bc-4bfe-ef8c-6bb079cb11be"
      },
      "source": [
        "# The following image was present in the provided training data\n",
        "# Visualizing a training data image for clarity\n",
        "w, h = 28, 28\n",
        "img = train_data[4554].reshape(w,h).T\n",
        "plt.imshow(img, cmap='gray')"
      ],
      "execution_count": 16,
      "outputs": [
        {
          "output_type": "execute_result",
          "data": {
            "text/plain": [
              "<matplotlib.image.AxesImage at 0x7f8fb5e90eb8>"
            ]
          },
          "metadata": {
            "tags": []
          },
          "execution_count": 16
        },
        {
          "output_type": "display_data",
          "data": {
            "image/png": "[encoded data removed]",
            "text/plain": [
              "<Figure size 432x288 with 1 Axes>"
            ]
          },
          "metadata": {
            "tags": [],
            "needs_background": "light"
          }
        }
      ]
    },
    {
      "cell_type": "code",
      "metadata": {
        "id": "Qtkj5AGnHgQK",
        "colab_type": "code",
        "colab": {
          "base_uri": "https://localhost:8080/",
          "height": 1000
        },
        "outputId": "40fe3df8-2c8c-44bb-cc08-37609d36eb78"
      },
      "source": [
        "# Visualizing the mixed_data\n",
        "w, h = 28, 28\n",
        "image = []\n",
        "for idx in range(20):\n",
        "    image.append(mixed_data[idx].reshape(w,h).T)\n",
        "    \n",
        "for idx in range(20):\n",
        "    plt.figure(1);\n",
        "    plt.clf()\n",
        "    plt.imshow(image[idx])\n",
        "    plt.title('Number ' + str(idx))\n",
        "    plt.pause(1)"
      ],
      "execution_count": 17,
      "outputs": [
        {
          "output_type": "display_data",
          "data": {
            "image/png": "[encoded data removed]",
            "text/plain": [
              "<Figure size 432x288 with 1 Axes>"
            ]
          },
          "metadata": {
            "tags": [],
            "needs_background": "light"
          }
        },
        {
          "output_type": "display_data",
          "data": {
            "image/png": "[encoded data removed]",
            "text/plain": [
              "<Figure size 432x288 with 1 Axes>"
            ]
          },
          "metadata": {
            "tags": [],
            "needs_background": "light"
          }
        },
        {
          "output_type": "display_data",
          "data": {
            "image/png": "[encoded data removed]",
            "text/plain": [
              "<Figure size 432x288 with 1 Axes>"
            ]
          },
          "metadata": {
            "tags": [],
            "needs_background": "light"
          }
        },
        {
          "output_type": "display_data",
          "data": {
            "image/png": "[encoded data removed]",
            "text/plain": [
              "<Figure size 432x288 with 1 Axes>"
            ]
          },
          "metadata": {
            "tags": [],
            "needs_background": "light"
          }
        },
        {
          "output_type": "display_data",
          "data": {
            "image/png": "[encoded data removed]",
            "text/plain": [
              "<Figure size 432x288 with 1 Axes>"
            ]
          },
          "metadata": {
            "tags": [],
            "needs_background": "light"
          }
        },
        {
          "output_type": "display_data",
          "data": {
            "image/png": "[encoded data removed]",
            "text/plain": [
              "<Figure size 432x288 with 1 Axes>"
            ]
          },
          "metadata": {
            "tags": [],
            "needs_background": "light"
          }
        },
        {
          "output_type": "display_data",
          "data": {
            "image/png": "[encoded data removed]",
            "text/plain": [
              "<Figure size 432x288 with 1 Axes>"
            ]
          },
          "metadata": {
            "tags": [],
            "needs_background": "light"
          }
        },
        {
          "output_type": "display_data",
          "data": {
            "image/png": "[encoded data removed]",
            "text/plain": [
              "<Figure size 432x288 with 1 Axes>"
            ]
          },
          "metadata": {
            "tags": [],
            "needs_background": "light"
          }
        },
        {
          "output_type": "display_data",
          "data": {
            "image/png": "[encoded data removed]",
            "text/plain": [
              "<Figure size 432x288 with 1 Axes>"
            ]
          },
          "metadata": {
            "tags": [],
            "needs_background": "light"
          }
        },
        {
          "output_type": "display_data",
          "data": {
            "image/png": "[encoded data removed]",
            "text/plain": [
              "<Figure size 432x288 with 1 Axes>"
            ]
          },
          "metadata": {
            "tags": [],
            "needs_background": "light"
          }
        },
        {
          "output_type": "display_data",
          "data": {
            "image/png": "[encoded data removed]",
            "text/plain": [
              "<Figure size 432x288 with 1 Axes>"
            ]
          },
          "metadata": {
            "tags": [],
            "needs_background": "light"
          }
        },
        {
          "output_type": "display_data",
          "data": {
            "image/png": "[encoded data removed]",
            "text/plain": [
              "<Figure size 432x288 with 1 Axes>"
            ]
          },
          "metadata": {
            "tags": [],
            "needs_background": "light"
          }
        },
        {
          "output_type": "display_data",
          "data": {
            "image/png": "[encoded data removed]",
            "text/plain": [
              "<Figure size 432x288 with 1 Axes>"
            ]
          },
          "metadata": {
            "tags": [],
            "needs_background": "light"
          }
        },
        {
          "output_type": "display_data",
          "data": {
            "image/png": "[encoded data removed]",
            "text/plain": [
              "<Figure size 432x288 with 1 Axes>"
            ]
          },
          "metadata": {
            "tags": [],
            "needs_background": "light"
          }
        },
        {
          "output_type": "display_data",
          "data": {
            "image/png": "[encoded data removed]",
            "text/plain": [
              "<Figure size 432x288 with 1 Axes>"
            ]
          },
          "metadata": {
            "tags": [],
            "needs_background": "light"
          }
        },
        {
          "output_type": "display_data",
          "data": {
            "image/png": "[encoded data removed]",
            "text/plain": [
              "<Figure size 432x288 with 1 Axes>"
            ]
          },
          "metadata": {
            "tags": [],
            "needs_background": "light"
          }
        },
        {
          "output_type": "display_data",
          "data": {
            "image/png": "[encoded data removed]",
            "text/plain": [
              "<Figure size 432x288 with 1 Axes>"
            ]
          },
          "metadata": {
            "tags": [],
            "needs_background": "light"
          }
        },
        {
          "output_type": "display_data",
          "data": {
            "image/png": "[encoded data removed]",
            "text/plain": [
              "<Figure size 432x288 with 1 Axes>"
            ]
          },
          "metadata": {
            "tags": [],
            "needs_background": "light"
          }
        },
        {
          "output_type": "display_data",
          "data": {
            "image/png": "[encoded data removed]",
            "text/plain": [
              "<Figure size 432x288 with 1 Axes>"
            ]
          },
          "metadata": {
            "tags": [],
            "needs_background": "light"
          }
        },
        {
          "output_type": "display_data",
          "data": {
            "image/png": "[encoded data removed]",
            "text/plain": [
              "<Figure size 432x288 with 1 Axes>"
            ]
          },
          "metadata": {
            "tags": [],
            "needs_background": "light"
          }
        }
      ]
    },
    {
      "cell_type": "markdown",
      "metadata": {
        "editable": false,
        "id": "RaQEpE8nHgQP",
        "colab_type": "text"
      },
      "source": [
        "### Nearest Neighbour Methods for regression\n",
        "Assume that each classID in the train set corresponds to a neatness score as:\n",
        "\n",
        "$$ neatness = \\frac{classID}{10} $$\n",
        "\n",
        "We could use the following algorithm to predict the neatness score for each test sample using NN based techiniques on the train set."
      ]
    },
    {
      "cell_type": "markdown",
      "metadata": {
        "id": "eC7HEuLtHgQQ",
        "colab_type": "text"
      },
      "source": [
        "```\n",
        "define function mean_abs_error which takes one integer argument K:\n",
        "    let count = 0\n",
        "    let iter = 0\n",
        "    while iter < 1000 DO\n",
        "        create an array 'freq' with 10 elements, all initialized to 0s\n",
        "        index = 0\n",
        "        while index < K DO\n",
        "            increment freq [label of element in positions array at (iter, index)] by 1\n",
        "            increment index by 1\n",
        "        DONE\n",
        "        let maximize be an array with positions of elements in freq, sorted in descending order by their values\n",
        "        let mean = 0\n",
        "        let classID = 0\n",
        "        while classID < 10 DO\n",
        "            increment mean by (classID * element at location classID in array freq)\n",
        "            increment classID by 1\n",
        "        DONE\n",
        "        modify mean to mean / K\n",
        "        increment count by absolute value of (((element at position iter of array test_labels) - mean) / 10)\n",
        "        increment iter by 1\n",
        "    DONE\n",
        "    return value of (count / 1000)\n",
        "Call the function mean_abs_error with a suitable value, say 7\n",
        "```"
      ]
    },
    {
      "cell_type": "markdown",
      "metadata": {
        "editable": false,
        "id": "UPa6a_8LHgQU",
        "colab_type": "text"
      },
      "source": [
        "### Experiment\n",
        "\n",
        "Validating the above algorithm on the test set"
      ]
    },
    {
      "cell_type": "code",
      "metadata": {
        "id": "DFUVqfa8HgQV",
        "colab_type": "code",
        "colab": {
          "base_uri": "https://localhost:8080/",
          "height": 106
        },
        "outputId": "1cc97deb-ec8f-418d-a6c8-2d0b2b6b9f10"
      },
      "source": [
        "def mean_abs_error(K):\n",
        "    count = 0\n",
        "\n",
        "    for iter in range(1000):\n",
        "        freq = np.zeros(10)\n",
        "\n",
        "        for index in range(K):\n",
        "            freq[int(train_labels[int(positions[iter][index])])] += 1\n",
        "\n",
        "        maximize = np.flip(np.argsort(freq))\n",
        "\n",
        "        mean = 0\n",
        "        for classID in range(10):\n",
        "            mean += classID * freq[classID]\n",
        "        mean /= K\n",
        "        count += (abs(test_labels[iter] - mean) / 10)\n",
        "        \n",
        "    return(count / 1000)\n",
        "\n",
        "#K = 1\n",
        "print(\"Mean Absolute Error for K = 1 is\", str(mean_abs_error(1)))\n",
        "\n",
        "#K = 3\n",
        "print(\"Mean Absolute Error for K = 3 is\", str(mean_abs_error(3)))\n",
        "\n",
        "#K = 5\n",
        "print(\"Mean Absolute Error for K = 5 is\", str(mean_abs_error(5)))\n",
        "\n",
        "#K = 7\n",
        "print(\"Mean Absolute Error for K = 7 is\", str(mean_abs_error(7)))\n",
        "\n",
        "#K = 9\n",
        "print(\"Mean Absolute Error for K = 9 is\", str(mean_abs_error(9)))"
      ],
      "execution_count": 18,
      "outputs": [
        {
          "output_type": "stream",
          "text": [
            "Mean Absolute Error for K = 1 is 0.03540000000000002\n",
            "Mean Absolute Error for K = 3 is 0.03773333333333335\n",
            "Mean Absolute Error for K = 5 is 0.04087999999999997\n",
            "Mean Absolute Error for K = 7 is 0.04377142857142868\n",
            "Mean Absolute Error for K = 9 is 0.04644444444444455\n"
          ],
          "name": "stdout"
        }
      ]
    },
    {
      "cell_type": "markdown",
      "metadata": {
        "editable": false,
        "id": "om_dsaYUHgQZ",
        "colab_type": "text"
      },
      "source": [
        "## $Thank\\ You$\n",
        "\n",
        "---"
      ]
    }
  ]
}